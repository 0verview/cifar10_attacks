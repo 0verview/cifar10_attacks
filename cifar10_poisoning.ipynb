{
  "nbformat": 4,
  "nbformat_minor": 0,
  "metadata": {
    "colab": {
      "provenance": []
    },
    "kernelspec": {
      "name": "python3",
      "display_name": "Python 3"
    },
    "language_info": {
      "name": "python"
    }
  },
  "cells": [
    {
      "cell_type": "code",
      "execution_count": 1,
      "metadata": {
        "colab": {
          "base_uri": "https://localhost:8080/"
        },
        "id": "vUDY8W7lJP3n",
        "outputId": "1c378f0e-41f2-46d7-aa06-54fb1193c109"
      },
      "outputs": [
        {
          "output_type": "stream",
          "name": "stdout",
          "text": [
            "Downloading data from https://www.cs.toronto.edu/~kriz/cifar-10-python.tar.gz\n",
            "170498071/170498071 [==============================] - 4s 0us/step\n",
            "Epoch 1/10\n",
            "1563/1563 [==============================] - 36s 22ms/step - loss: 4.5629 - accuracy: 0.2627\n",
            "Epoch 2/10\n",
            "1563/1563 [==============================] - 32s 20ms/step - loss: 1.8537 - accuracy: 0.3568\n",
            "Epoch 3/10\n",
            "1563/1563 [==============================] - 32s 21ms/step - loss: 1.7429 - accuracy: 0.3959\n",
            "Epoch 4/10\n",
            "1563/1563 [==============================] - 33s 21ms/step - loss: 1.6810 - accuracy: 0.4144\n",
            "Epoch 5/10\n",
            "1563/1563 [==============================] - 33s 21ms/step - loss: 1.6338 - accuracy: 0.4351\n",
            "Epoch 6/10\n",
            "1563/1563 [==============================] - 32s 21ms/step - loss: 1.5926 - accuracy: 0.4465\n",
            "Epoch 7/10\n",
            "1563/1563 [==============================] - 33s 21ms/step - loss: 1.5725 - accuracy: 0.4532\n",
            "Epoch 8/10\n",
            "1563/1563 [==============================] - 33s 21ms/step - loss: 1.5424 - accuracy: 0.4663\n",
            "Epoch 9/10\n",
            "1563/1563 [==============================] - 32s 21ms/step - loss: 1.5194 - accuracy: 0.4740\n",
            "Epoch 10/10\n",
            "1563/1563 [==============================] - 32s 21ms/step - loss: 1.4798 - accuracy: 0.4848\n",
            "313/313 [==============================] - 3s 8ms/step - loss: 2.1735 - accuracy: 0.3904\n",
            "Test accuracy: 0.39\n",
            "Epoch 1/10\n",
            "1594/1594 [==============================] - 34s 21ms/step - loss: 1.4755 - accuracy: 0.4877\n",
            "Epoch 2/10\n",
            "1594/1594 [==============================] - 34s 21ms/step - loss: 1.4778 - accuracy: 0.4866\n",
            "Epoch 3/10\n",
            "1594/1594 [==============================] - 34s 21ms/step - loss: 1.4384 - accuracy: 0.5020\n",
            "Epoch 4/10\n",
            "1594/1594 [==============================] - 33s 21ms/step - loss: 1.4255 - accuracy: 0.5071\n",
            "Epoch 5/10\n",
            "1594/1594 [==============================] - 34s 21ms/step - loss: 1.4119 - accuracy: 0.5117\n",
            "Epoch 6/10\n",
            "1594/1594 [==============================] - 34s 21ms/step - loss: 1.3905 - accuracy: 0.5177\n",
            "Epoch 7/10\n",
            "1594/1594 [==============================] - 37s 23ms/step - loss: 1.3789 - accuracy: 0.5211\n",
            "Epoch 8/10\n",
            "1594/1594 [==============================] - 34s 21ms/step - loss: 1.3776 - accuracy: 0.5226\n",
            "Epoch 9/10\n",
            "1594/1594 [==============================] - 33s 21ms/step - loss: 1.3607 - accuracy: 0.5315\n",
            "Epoch 10/10\n",
            "1594/1594 [==============================] - 33s 21ms/step - loss: 1.3402 - accuracy: 0.5383\n",
            "313/313 [==============================] - 3s 8ms/step - loss: 3.0918 - accuracy: 0.3739\n",
            "Test accuracy after poisoning: 0.37\n"
          ]
        }
      ],
      "source": [
        "import numpy as np\n",
        "import tensorflow as tf\n",
        "from tensorflow.keras.datasets import cifar10\n",
        "\n",
        "# Load the CIFAR10 dataset\n",
        "(x_train, y_train), (x_test, y_test) = cifar10.load_data()\n",
        "\n",
        "# Convert the labels to one-hot encoded vectors\n",
        "y_train = tf.keras.utils.to_categorical(y_train, num_classes=10)\n",
        "y_test = tf.keras.utils.to_categorical(y_test, num_classes=10)\n",
        "\n",
        "# Define the model architecture\n",
        "input_shape = (32, 32, 3)\n",
        "model = tf.keras.Sequential()\n",
        "model.add(tf.keras.layers.Conv2D(32, kernel_size=(3, 3), activation='relu', input_shape=input_shape))\n",
        "model.add(tf.keras.layers.MaxPooling2D(pool_size=(2, 2)))\n",
        "model.add(tf.keras.layers.Flatten())\n",
        "model.add(tf.keras.layers.Dense(10, activation='softmax'))\n",
        "\n",
        "# Compile the model\n",
        "model.compile(loss='categorical_crossentropy', optimizer='adam', metrics=['accuracy'])\n",
        "\n",
        "# Train the model on the federated learning system\n",
        "model.fit(x_train, y_train, epochs=10)\n",
        "\n",
        "# Evaluate the model on the test set\n",
        "loss, accuracy = model.evaluate(x_test, y_test)\n",
        "print(f'Test accuracy: {accuracy:.2f}')\n",
        "\n",
        "# Generate poison data\n",
        "num_poison = 1000\n",
        "poison_x = np.random.rand(num_poison, 32, 32, 3)\n",
        "poison_y = np.random.randint(10, size=num_poison)\n",
        "poison_y = tf.keras.utils.to_categorical(poison_y, num_classes=10)\n",
        "\n",
        "# Inject the poison data into the training set\n",
        "x_train = np.concatenate((x_train, poison_x))\n",
        "y_train = np.concatenate((y_train, poison_y))\n",
        "\n",
        "# Retrain the model on the poisoned training set\n",
        "model.fit(x_train, y_train, epochs=10)\n",
        "\n",
        "# Re-evaluate the model on the test set\n",
        "loss, accuracy = model.evaluate(x_test, y_test)\n",
        "print(f'Test accuracy after poisoning: {accuracy:.2f}')"
      ]
    }
  ]
}