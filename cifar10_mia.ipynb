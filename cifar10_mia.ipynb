{
  "nbformat": 4,
  "nbformat_minor": 0,
  "metadata": {
    "colab": {
      "provenance": []
    },
    "kernelspec": {
      "name": "python3",
      "display_name": "Python 3"
    },
    "language_info": {
      "name": "python"
    }
  },
  "cells": [
    {
      "cell_type": "code",
      "source": [
        "import numpy as np\n",
        "import tensorflow as tf\n",
        "from tensorflow.keras.datasets import cifar10\n",
        "\n",
        "# Load the CIFAR10 dataset\n",
        "(x_train, y_train), (x_test, y_test) = cifar10.load_data()\n",
        "\n",
        "# Convert the labels to one-hot encoded vectors\n",
        "y_train = tf.keras.utils.to_categorical(y_train, num_classes=10)\n",
        "y_test = tf.keras.utils.to_categorical(y_test, num_classes=10)\n",
        "\n",
        "# Define the model architecture\n",
        "input_shape = (32, 32, 3)\n",
        "model = tf.keras.Sequential()\n",
        "model.add(tf.keras.layers.Conv2D(32, kernel_size=(3, 3), activation='relu', input_shape=input_shape))\n",
        "model.add(tf.keras.layers.MaxPooling2D(pool_size=(2, 2)))\n",
        "model.add(tf.keras.layers.Flatten())\n",
        "model.add(tf.keras.layers.Dense(10, activation='softmax'))\n",
        "\n",
        "# Compile the model\n",
        "model.compile(loss='categorical_crossentropy', optimizer='adam', metrics=['accuracy'])\n",
        "\n",
        "# Train the model on the federated learning system\n",
        "model.fit(x_train, y_train, epochs=10)\n",
        "\n",
        "# Generate membership queries\n",
        "num_queries = 1000\n",
        "query_x = np.random.rand(num_queries, 32, 32, 3)\n",
        "query_y = np.random.randint(10, size=num_queries)\n",
        "query_y = tf.keras.utils.to_categorical(query_y, num_classes=10)\n",
        "\n",
        "# Use the model to classify the membership queries\n",
        "predictions = model.predict(query_x)\n",
        "\n",
        "# Compute the model's confidence for each query\n",
        "confidences = np.max(predictions, axis=1)\n",
        "\n",
        "# Determine which queries the model is most confident about\n",
        "most_confident_queries = np.argsort(confidences)[::-1][:10]\n",
        "\n",
        "# Print the most confident queries and their corresponding labels\n",
        "print('Most confident queries:')\n",
        "for query_idx in most_confident_queries:\n",
        "    print(f'Query {query_idx}: label {np.argmax(query_y[query_idx])}')\n"
      ],
      "metadata": {
        "colab": {
          "base_uri": "https://localhost:8080/"
        },
        "id": "iDVDhtdBY782",
        "outputId": "adecc4ea-3d14-44ee-a572-b1a4d9330325"
      },
      "execution_count": 3,
      "outputs": [
        {
          "output_type": "stream",
          "name": "stdout",
          "text": [
            "Epoch 1/10\n",
            "1563/1563 [==============================] - 33s 21ms/step - loss: 3.3053 - accuracy: 0.2845\n",
            "Epoch 2/10\n",
            "1563/1563 [==============================] - 32s 21ms/step - loss: 1.7929 - accuracy: 0.3830\n",
            "Epoch 3/10\n",
            "1563/1563 [==============================] - 32s 21ms/step - loss: 1.6801 - accuracy: 0.4223\n",
            "Epoch 4/10\n",
            "1563/1563 [==============================] - 32s 21ms/step - loss: 1.6138 - accuracy: 0.4472\n",
            "Epoch 5/10\n",
            "1563/1563 [==============================] - 35s 23ms/step - loss: 1.5644 - accuracy: 0.4656\n",
            "Epoch 6/10\n",
            "1563/1563 [==============================] - 33s 21ms/step - loss: 1.5289 - accuracy: 0.4781\n",
            "Epoch 7/10\n",
            "1563/1563 [==============================] - 33s 21ms/step - loss: 1.5057 - accuracy: 0.4871\n",
            "Epoch 8/10\n",
            "1563/1563 [==============================] - 33s 21ms/step - loss: 1.4759 - accuracy: 0.4959\n",
            "Epoch 9/10\n",
            "1563/1563 [==============================] - 33s 21ms/step - loss: 1.4590 - accuracy: 0.5046\n",
            "Epoch 10/10\n",
            "1563/1563 [==============================] - 33s 21ms/step - loss: 1.4108 - accuracy: 0.5193\n",
            "32/32 [==============================] - 0s 8ms/step\n",
            "Most confident queries:\n",
            "Query 613: label 5\n",
            "Query 473: label 0\n",
            "Query 829: label 5\n",
            "Query 49: label 2\n",
            "Query 834: label 4\n",
            "Query 520: label 7\n",
            "Query 589: label 7\n",
            "Query 515: label 8\n",
            "Query 400: label 5\n",
            "Query 178: label 3\n"
          ]
        }
      ]
    }
  ]
}