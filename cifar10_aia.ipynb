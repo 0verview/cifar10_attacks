{
  "nbformat": 4,
  "nbformat_minor": 0,
  "metadata": {
    "colab": {
      "provenance": []
    },
    "kernelspec": {
      "name": "python3",
      "display_name": "Python 3"
    },
    "language_info": {
      "name": "python"
    }
  },
  "cells": [
    {
      "cell_type": "code",
      "execution_count": 1,
      "metadata": {
        "colab": {
          "base_uri": "https://localhost:8080/"
        },
        "id": "bndLy5nbrzuV",
        "outputId": "bcc7187b-9aae-4303-b318-4121b92e443f"
      },
      "outputs": [
        {
          "output_type": "stream",
          "name": "stdout",
          "text": [
            "Downloading data from https://www.cs.toronto.edu/~kriz/cifar-10-python.tar.gz\n",
            "170498071/170498071 [==============================] - 2s 0us/step\n",
            "Epoch 1/10\n",
            "1563/1563 [==============================] - 31s 19ms/step - loss: 3.7982 - accuracy: 0.2812\n",
            "Epoch 2/10\n",
            "1563/1563 [==============================] - 28s 18ms/step - loss: 1.7966 - accuracy: 0.3834\n",
            "Epoch 3/10\n",
            "1563/1563 [==============================] - 28s 18ms/step - loss: 1.6948 - accuracy: 0.4169\n",
            "Epoch 4/10\n",
            "1563/1563 [==============================] - 30s 19ms/step - loss: 1.6432 - accuracy: 0.4311\n",
            "Epoch 5/10\n",
            "1563/1563 [==============================] - 28s 18ms/step - loss: 1.5806 - accuracy: 0.4544\n",
            "Epoch 6/10\n",
            "1563/1563 [==============================] - 28s 18ms/step - loss: 1.5475 - accuracy: 0.4667\n",
            "Epoch 7/10\n",
            "1563/1563 [==============================] - 28s 18ms/step - loss: 1.5204 - accuracy: 0.4737\n",
            "Epoch 8/10\n",
            "1563/1563 [==============================] - 29s 19ms/step - loss: 1.5068 - accuracy: 0.4794\n",
            "Epoch 9/10\n",
            "1563/1563 [==============================] - 29s 18ms/step - loss: 1.4838 - accuracy: 0.4861\n",
            "Epoch 10/10\n",
            "1563/1563 [==============================] - 28s 18ms/step - loss: 1.4385 - accuracy: 0.5038\n",
            "1/1 [==============================] - 0s 76ms/step\n",
            "Inferred attributes for sample 0: [[1.2169952e-05 1.2988744e-04 1.7812798e-02 2.8426194e-01 8.7440051e-02\n",
            "  2.6730210e-01 3.2721502e-01 1.5554481e-02 6.2534491e-05 2.0900018e-04]]\n"
          ]
        }
      ],
      "source": [
        "import numpy as np\n",
        "import tensorflow as tf\n",
        "from tensorflow.keras.datasets import cifar10\n",
        "\n",
        "# Load the CIFAR10 dataset\n",
        "(x_train, y_train), (x_test, y_test) = cifar10.load_data()\n",
        "\n",
        "# Convert the labels to one-hot encoded vectors\n",
        "y_train = tf.keras.utils.to_categorical(y_train, num_classes=10)\n",
        "y_test = tf.keras.utils.to_categorical(y_test, num_classes=10)\n",
        "\n",
        "# Define the model architecture\n",
        "input_shape = (32, 32, 3)\n",
        "model = tf.keras.Sequential()\n",
        "model.add(tf.keras.layers.Conv2D(32, kernel_size=(3, 3), activation='relu', input_shape=input_shape))\n",
        "model.add(tf.keras.layers.MaxPooling2D(pool_size=(2, 2)))\n",
        "model.add(tf.keras.layers.Flatten())\n",
        "model.add(tf.keras.layers.Dense(10, activation='softmax'))\n",
        "\n",
        "# Compile the model\n",
        "model.compile(loss='categorical_crossentropy', optimizer='adam', metrics=['accuracy'])\n",
        "\n",
        "# Train the model on the federated learning system\n",
        "model.fit(x_train, y_train, epochs=10)\n",
        "\n",
        "# Select a sample from the training set to infer attributes for\n",
        "sample_idx = 0\n",
        "sample = x_train[sample_idx]\n",
        "\n",
        "# Use the model to infer attributes for the sample\n",
        "attributes = model.predict(np.expand_dims(sample, axis=0))\n",
        "\n",
        "# Print the inferred attributes for the sample\n",
        "print(f'Inferred attributes for sample {sample_idx}: {attributes}')\n"
      ]
    }
  ]
}